{
 "cells": [
  {
   "cell_type": "markdown",
   "metadata": {},
   "source": [
    "## This is just the jupyter version\n",
    "No argparsing required, do it all yourself in here."
   ]
  },
  {
   "cell_type": "code",
   "execution_count": null,
   "metadata": {},
   "outputs": [],
   "source": [
    "fasta_file = \"./Figure_1.fasta\"\n",
    "motif_file = \"./Fig_1_motifs.txt\""
   ]
  },
  {
   "cell_type": "markdown",
   "metadata": {},
   "source": [
    "### Imports"
   ]
  },
  {
   "cell_type": "code",
   "execution_count": 177,
   "metadata": {},
   "outputs": [],
   "source": [
    "import regex as re\n",
    "import cairo\n",
    "import argparse\n",
    "import os\n",
    "from math import ceil"
   ]
  },
  {
   "cell_type": "markdown",
   "metadata": {},
   "source": [
    "### This is the complete parse function"
   ]
  },
  {
   "cell_type": "code",
   "execution_count": 163,
   "metadata": {},
   "outputs": [],
   "source": [
    "def parse_files(fasta_file, motif_file):\n",
    "    ''' \n",
    "    Input: a fasta file path and a motif file path\n",
    "        Note: the motif file must have a single motif per line\n",
    "    Returns: seq_max = maximum sequence length\n",
    "             gene = {fasta header: single-line sequence} dictionary\n",
    "             exon = {fasta header: exon position} dictionary\n",
    "             regex_dict = {motif: IUPAC regex match} dictionary'''\n",
    "    \n",
    "    ### Initialize first loop\n",
    "    with open(fasta_file,\"r\") as fasta:\n",
    "        read = ''\n",
    "        first = True\n",
    "        gene = {}\n",
    "        head = False\n",
    "        seq_max = 0\n",
    "        # This loop results in {header:sequence} dictionary\n",
    "        # and provides a maximum sequence length\n",
    "        for line in fasta:\n",
    "            if line.startswith('>'):\n",
    "                if head:\n",
    "                    gene[head] = read\n",
    "                head = line.strip('>').strip()\n",
    "                read = \"\"\n",
    "            else:\n",
    "                read += line.strip()\n",
    "                if len(read) > seq_max:\n",
    "                    seq_max = len(read)\n",
    "            gene[head] = read\n",
    "    \n",
    "    ### Initialize second loop \n",
    "    exons = {}\n",
    "    # This loop creates a {head:[exon positions]} dictionary\n",
    "    for head in gene.keys():\n",
    "        position = []\n",
    "        for exon in re.finditer(\"[A-Z]+\", gene[head]):\n",
    "            position.append(exon.span())\n",
    "        exons[head] = position\n",
    "    \n",
    "    ### Initialize third loop \n",
    "    regex_dict = {}\n",
    "    # This loop results in a {motif: IUPAC regex match} dictionary \n",
    "    with open(motif_file) as motifs:\n",
    "        iupac = {\"A\":\"[Aa]\", \"T\":\"[TtUu]\", \"C\":\"[Cc]\", \"G\":\"[Gg]\", \n",
    "            \"U\":\"[TtUu]\", \"M\":\"[AaCc]\", \"R\":\"[AaGg]\", \"W\":\"[AaTtUu]\",\n",
    "            \"S\":\"[CcGg]\", \"Y\":\"[CcTtUu]\", \"K\":\"[GgTtUu]\", \n",
    "            \"V\":\"[AaCcGg]\", \"H\":\"[AaCcTtUu]\", \"D\":\"[AaGgTtUu]\", \n",
    "            \"B\":\"[CcGgTtUu]\", \"N\":\"[AaTtCcGgUu]\"}\n",
    "        for line in motifs:\n",
    "            regex_motif = ''\n",
    "            line = line.strip().upper()\n",
    "            for char in line:\n",
    "                regex_motif += iupac[char]\n",
    "            regex_dict[line] = regex_motif\n",
    "\n",
    "            \n",
    "    return seq_max, gene, exons, regex_dict"
   ]
  },
  {
   "cell_type": "markdown",
   "metadata": {},
   "source": [
    "### Get your info from parsing"
   ]
  },
  {
   "cell_type": "code",
   "execution_count": 164,
   "metadata": {},
   "outputs": [],
   "source": [
    "seq_max, gene, exons, regex_dict = parse_files(fasta_file, motif_file)"
   ]
  },
  {
   "cell_type": "markdown",
   "metadata": {},
   "source": [
    "### This is the plot function"
   ]
  },
  {
   "cell_type": "code",
   "execution_count": 239,
   "metadata": {},
   "outputs": [],
   "source": [
    "name = 'example'\n",
    "\n",
    "width, height = ceil((seq_max + 00)/100)*100, 300*len(regex_dict)\n",
    "count = 1 # gene count\n",
    "\n",
    "fn = './' + name + '.svg'\n",
    "surface = cairo.SVGSurface(fn, width, height)\n",
    "context = cairo.Context(surface)\n",
    "context.set_font_size(25)\n",
    "\n",
    "colors = [[0.008, 0.93, 0.56], # sea foam?\n",
    "          [0.93, 0.81, 0.008], # gold\n",
    "          [0.24, 0.62, 1.0], # sky blue\n",
    "          [0.92, 0.18, 0.51], # fushia?\n",
    "          [0.13, 0.65, 0.13], # greenish\n",
    "          [0.93,0.10,0.10], # red\n",
    "          [0.17, 0.31, 1.0], # blue\n",
    "          [0.18,0.92,0.91], # teal?\n",
    "          [0.95, 0.58, 0.06], # orange\n",
    "          [0.64, 0.93, 0.008], # lime\n",
    "          [0.48, 0.07, 0.68], # grape\n",
    "          [0.6, 0.125, 0.125], # brick?\n",
    "          [1, 1, 0] # just straight up yellow \n",
    "         ]\n",
    "\n",
    "for head, seq in gene.items():\n",
    "    # update y coords for each gene\n",
    "    y = 250 + 250*(count - 1)\n",
    "    \n",
    "    # Gene line\n",
    "    context.set_source_rgb(0,0,0)\n",
    "    context.set_line_width(10)\n",
    "    context.move_to(100, y)\n",
    "    context.line_to(100 + len(seq), y)\n",
    "    context.stroke()\n",
    "    \n",
    "    # Add exon\n",
    "    start = exons[head][0][0]\n",
    "    end = exons[head][0][1]\n",
    "    context.set_line_width(50)\n",
    "    context.move_to(100 + start, y)\n",
    "    context.line_to(100 + end, y)\n",
    "    context.stroke()\n",
    "    \n",
    "    # Add motif matches\n",
    "    motif_pos = {}\n",
    "    for motif in regex_dict:\n",
    "        motif_pos[motif] = []\n",
    "        for match in re.finditer(regex_dict[motif], seq):\n",
    "            motif_pos[motif].append(match.span())\n",
    "    \n",
    "    # initialize motif count (number motifs - nummo)\n",
    "    nummo = 0\n",
    "    \n",
    "    # Plot motif matches\n",
    "    for motif in motif_pos.keys():\n",
    "        mocols = colors[nummo]\n",
    "        \n",
    "        # plot motifs on gene\n",
    "        context.set_source_rgb(mocols[0],mocols[1], mocols[2])\n",
    "        pos = motif_pos[motif]\n",
    "        for tuple in pos:\n",
    "            start = tuple[0]\n",
    "            end = tuple[1]\n",
    "            context.set_line_width(50)\n",
    "            context.move_to(100 + start, y)\n",
    "            context.line_to(100 + end, y)\n",
    "            context.stroke()\n",
    "        nummo += 1\n",
    "    \n",
    "    # Plot gene name\n",
    "    context.set_source_rgb(0,0,0)\n",
    "    context.move_to(100, y - 50)\n",
    "    context.show_text(head)\n",
    "    context.select_font_face(\"\")\n",
    "    \n",
    "    count += 1\n",
    "\n",
    "\n",
    "# Print the motif names in their colors at the top of the image\n",
    "redo_nummo = 0\n",
    "name_len = 0\n",
    "# The above for loop did not like having this as part of its functionality\n",
    "# it's fine here\n",
    "for motif in motif_pos.keys():\n",
    "    mocols = colors[redo_nummo]\n",
    "    context.set_source_rgb(mocols[0],mocols[1], mocols[2])\n",
    "    context.move_to(100*(1+redo_nummo)+name_len*5, 100)\n",
    "    context.show_text(motif)\n",
    "    redo_nummo += 1\n",
    "    name_len += len(motif)\n",
    "\n",
    "# Add text for the exon\n",
    "context.set_source_rgb(0,0,0)\n",
    "context.move_to(100*(2+redo_nummo)+name_len*4, 100)\n",
    "context.show_text(\"Exon\")\n",
    " \n",
    "surface.finish()"
   ]
  },
  {
   "cell_type": "markdown",
   "metadata": {},
   "source": [
    "## And you're done!"
   ]
  }
 ],
 "metadata": {
  "kernelspec": {
   "display_name": "Python 3",
   "language": "python",
   "name": "python3"
  },
  "language_info": {
   "codemirror_mode": {
    "name": "ipython",
    "version": 3
   },
   "file_extension": ".py",
   "mimetype": "text/x-python",
   "name": "python",
   "nbconvert_exporter": "python",
   "pygments_lexer": "ipython3",
   "version": "3.7.3"
  }
 },
 "nbformat": 4,
 "nbformat_minor": 2
}
